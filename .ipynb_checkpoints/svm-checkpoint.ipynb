{
 "cells": [
  {
   "cell_type": "code",
   "execution_count": 15,
   "metadata": {},
   "outputs": [],
   "source": [
    "\n",
    "from pathlib import Path\n",
    "import matplotlib.pyplot as plt\n",
    "import numpy as np\n",
    "%matplotlib notebook\n",
    "from sklearn import svm, metrics, datasets\n",
    "from sklearn.utils import Bunch\n",
    "from sklearn.model_selection import GridSearchCV, train_test_split\n",
    "import skimage\n",
    "from skimage.io import imread\n",
    "from skimage.transform import resize\n",
    "import pandas as pd"
   ]
  },
  {
   "cell_type": "code",
   "execution_count": 2,
   "metadata": {},
   "outputs": [],
   "source": [
    "def load_image_files(container_path, dimension=(64, 64)):\n",
    "    \"\"\"\n",
    "    Load image files with categories as subfolder names \n",
    "    which performs like scikit-learn sample dataset\n",
    "    \n",
    "    Parameters\n",
    "    ----------\n",
    "    container_path : string or unicode\n",
    "        Path to the main folder holding one subfolder per category\n",
    "    dimension : tuple\n",
    "        size to which image are adjusted to\n",
    "        \n",
    "    Returns\n",
    "    -------\n",
    "    Bunch\n",
    "    \"\"\"\n",
    "    image_dir = Path(container_path)\n",
    "    folders = [directory for directory in image_dir.iterdir() if directory.is_dir()]\n",
    "    categories = [fo.name for fo in folders]\n",
    "\n",
    "    descr = \"A image classification dataset\"\n",
    "    images = []\n",
    "    flat_data = []\n",
    "    target = []\n",
    "    for i, direc in enumerate(folders):\n",
    "        for file in direc.iterdir():\n",
    "            img = skimage.io.imread(file)\n",
    "            img_resized = resize(img, dimension, anti_aliasing=True, mode='reflect')\n",
    "                        \n",
    "            flat_data.append(img_resized.flatten()) \n",
    "            images.append(img_resized)\n",
    "            target.append(i)\n",
    "    flat_data = np.array(flat_data)\n",
    "    target = np.array(target)\n",
    "    images = np.array(images)\n",
    "\n",
    "    return Bunch(data=flat_data,\n",
    "                 target=target,\n",
    "                 target_names=categories,\n",
    "                 images=images,\n",
    "                 DESCR=descr)"
   ]
  },
  {
   "cell_type": "code",
   "execution_count": 3,
   "metadata": {},
   "outputs": [],
   "source": [
    "image_dataset = load_image_files(\"images_svm/\")"
   ]
  },
  {
   "cell_type": "code",
   "execution_count": 4,
   "metadata": {},
   "outputs": [],
   "source": [
    "X_train, X_test, y_train, y_test = train_test_split(\n",
    "    image_dataset.data, image_dataset.target, test_size=0.3,random_state=109)"
   ]
  },
  {
   "cell_type": "code",
   "execution_count": 5,
   "metadata": {
    "tags": []
   },
   "outputs": [
    {
     "name": "stdout",
     "output_type": "stream",
     "text": [
      "Fitting 5 folds for each of 12 candidates, totalling 60 fits\n",
      "[Parallel(n_jobs=-1)]: Using backend LokyBackend with 8 concurrent workers.\n",
      "[Parallel(n_jobs=-1)]: Done  34 tasks      | elapsed:   13.6s\n",
      "[Parallel(n_jobs=-1)]: Done  60 out of  60 | elapsed:   20.4s finished\n"
     ]
    },
    {
     "data": {
      "text/plain": [
       "GridSearchCV(estimator=SVC(), n_jobs=-1,\n",
       "             param_grid=[{'C': [1, 10, 100, 1000], 'kernel': ['linear']},\n",
       "                         {'C': [1, 10, 100, 1000], 'gamma': [0.001, 0.0001],\n",
       "                          'kernel': ['rbf']}],\n",
       "             verbose=1)"
      ]
     },
     "execution_count": 5,
     "metadata": {},
     "output_type": "execute_result"
    }
   ],
   "source": [
    "from sklearn.decomposition import PCA\n",
    "from sklearn.pipeline import make_pipeline\n",
    "\n",
    "# pca = PCA(n_components=2, svd_solver='randomized', whiten=True, random_state=42)\n",
    "\n",
    "param_grid = [\n",
    "  {'C': [1, 10, 100, 1000], 'kernel': ['linear']},\n",
    "  {'C': [1, 10, 100, 1000], 'gamma': [0.001, 0.0001], 'kernel': ['rbf']},\n",
    " ]\n",
    "svc = svm.SVC()\n",
    "model = GridSearchCV(svc, param_grid, verbose=1, n_jobs=-1)\n",
    "\n",
    "# model = make_pipeline(pca, clf)\n",
    "model.fit(X_train, y_train)"
   ]
  },
  {
   "cell_type": "code",
   "execution_count": 6,
   "metadata": {},
   "outputs": [
    {
     "data": {
      "text/plain": [
       "0.8148148148148148"
      ]
     },
     "execution_count": 6,
     "metadata": {},
     "output_type": "execute_result"
    }
   ],
   "source": [
    "# pca.fit_transform(X_test,y_test)\n",
    "\n",
    "model.score(X_test,y_test)"
   ]
  },
  {
   "cell_type": "code",
   "execution_count": 7,
   "metadata": {},
   "outputs": [],
   "source": [
    "y_pred = model.predict(X_test)"
   ]
  },
  {
   "cell_type": "code",
   "execution_count": 12,
   "metadata": {},
   "outputs": [],
   "source": [
    "# from sklearn.metrics import confusion_matrix\n",
    "# import pandas as pd\n",
    "\n",
    "# pd.DataFrame(\n",
    "#     confusion_matrix(y_test, y_pred),\n",
    "#     columns=['Positive', 'Negatif'],\n",
    "#     index=['True', 'False']\n",
    "# )"
   ]
  },
  {
   "cell_type": "code",
   "execution_count": 8,
   "metadata": {
    "tags": []
   },
   "outputs": [
    {
     "name": "stdout",
     "output_type": "stream",
     "text": [
      "Classification report for - \n",
      "GridSearchCV(estimator=SVC(), n_jobs=-1,\n",
      "             param_grid=[{'C': [1, 10, 100, 1000], 'kernel': ['linear']},\n",
      "                         {'C': [1, 10, 100, 1000], 'gamma': [0.001, 0.0001],\n",
      "                          'kernel': ['rbf']}],\n",
      "             verbose=1):\n",
      "              precision    recall  f1-score   support\n",
      "\n",
      "           0       1.00      0.20      0.33         5\n",
      "           1       0.62      0.71      0.67         7\n",
      "           2       0.94      0.84      0.89        19\n",
      "           3       0.50      0.83      0.62         6\n",
      "           4       0.94      0.88      0.91        17\n",
      "           5       0.93      0.78      0.85        18\n",
      "           6       1.00      0.95      0.97        20\n",
      "           7       0.60      1.00      0.75         9\n",
      "           8       0.57      0.57      0.57         7\n",
      "\n",
      "    accuracy                           0.81       108\n",
      "   macro avg       0.79      0.75      0.73       108\n",
      "weighted avg       0.86      0.81      0.81       108\n",
      "\n",
      "\n"
     ]
    }
   ],
   "source": [
    "print(\"Classification report for - \\n{}:\\n{}\\n\".format(\n",
    "    model, metrics.classification_report(y_test, y_pred)))"
   ]
  },
  {
   "cell_type": "code",
   "execution_count": 9,
   "metadata": {},
   "outputs": [],
   "source": [
    "images_a_predire = load_image_files(\"crop/\")"
   ]
  },
  {
   "cell_type": "code",
   "execution_count": 10,
   "metadata": {},
   "outputs": [],
   "source": [
    "predictions = model.predict(images_a_predire.data)"
   ]
  },
  {
   "cell_type": "code",
   "execution_count": 11,
   "metadata": {},
   "outputs": [
    {
     "data": {
      "text/plain": [
       "array([6, 6, 3, 6, 6, 6, 2, 2, 2, 3, 1, 6, 6, 6, 6, 3, 5, 4, 5, 5, 8, 8,\n",
       "       0, 3, 6, 0, 2, 3, 7, 5, 6, 6, 6, 2, 6, 5, 6, 6, 6, 6, 6, 6, 6, 2,\n",
       "       2, 4, 4, 7, 2, 3, 3, 7, 5, 8, 6, 6, 3, 5, 5, 5, 2, 3, 3, 1, 6, 5,\n",
       "       5, 4, 0, 8, 1, 3, 3, 2, 2, 1, 3, 6, 6, 0, 6, 3, 5, 8, 1, 3, 3, 6,\n",
       "       5, 1, 3, 2, 3, 4, 8, 8, 2, 1, 3, 7, 5, 2, 6, 6, 6, 6, 6, 6, 6, 4,\n",
       "       3, 3, 0, 2, 5, 2, 6, 5, 4, 5, 4, 8, 2, 2, 7, 2, 3, 7, 5, 4, 3, 3,\n",
       "       1, 6, 6, 2, 6, 2, 2, 2, 2, 4, 5, 0, 3, 3, 7, 3, 2, 2, 2, 4, 5, 5,\n",
       "       5, 8, 1, 0, 6, 6, 6, 6, 6, 2, 2, 4, 2, 3, 3, 6, 3, 1, 5, 4, 5, 5,\n",
       "       2, 2, 7, 6, 4, 8, 8, 2, 8, 6, 3, 6, 6, 2, 6, 2, 2, 0, 1, 0, 6, 1,\n",
       "       1, 6, 6, 6, 4, 4, 5, 5, 2, 1, 7, 3, 4, 5, 6, 8, 8, 2, 2, 6, 6, 6,\n",
       "       1, 6, 6, 2, 6, 6, 6, 0, 0, 1, 6, 3, 3, 6, 5, 6, 4, 4, 8, 8, 2, 3,\n",
       "       0, 2, 2, 0, 6, 7, 7, 4, 6, 6, 1, 6, 4, 5, 2, 2, 2, 5, 6, 6, 6, 6,\n",
       "       4, 4, 4, 4, 3, 5, 8, 3, 3, 3, 2, 7, 4, 4, 6, 6, 6, 2, 7, 4, 5, 2,\n",
       "       5, 5, 5, 2, 5, 6, 3, 5, 4, 4, 8, 2, 4, 4, 3, 5, 2, 3, 7, 4, 6, 6,\n",
       "       6, 6, 6, 6, 6, 2, 1, 6, 5, 4, 3, 3, 1, 7, 8, 6, 3, 6, 6, 6, 6, 3,\n",
       "       2, 3, 2, 3, 2, 6, 2, 2, 0, 0, 1, 2, 4, 6, 6, 6, 5, 6, 6, 6, 6, 6,\n",
       "       3, 6, 6, 2, 3, 4, 1, 2, 0, 7, 4, 5, 4, 7, 4, 4, 5, 6, 6, 6, 1, 3,\n",
       "       6, 6, 6, 2, 1, 4, 1, 1, 3, 2, 5, 2, 3, 3, 7, 5, 5, 1, 1, 7, 4, 6,\n",
       "       6, 3, 1, 4, 6, 8, 6, 6, 4, 5, 5, 5, 5, 5, 6, 4, 3, 5, 8, 4, 5, 2,\n",
       "       3, 0, 3, 3, 8, 0, 8, 3, 1, 2, 6, 6, 6, 5, 1, 1, 3, 6, 6, 6, 6, 3,\n",
       "       5, 7, 2, 8, 1, 6, 3, 3, 0, 0, 1, 5, 1, 5, 5, 1, 2, 3, 6, 6, 6, 6,\n",
       "       6, 6, 6, 2, 3, 4, 7, 4, 5, 5, 7, 8, 2, 3, 8, 7, 7, 7, 4, 4, 6, 6,\n",
       "       6, 2, 3, 6, 4, 2, 3, 6, 6, 6, 6, 2, 1, 3, 3, 2, 4, 6, 6, 6, 6, 2,\n",
       "       3, 3, 5, 0, 5, 5, 6, 2, 6, 6, 2, 4, 5, 5, 6, 7, 4, 8, 8, 1, 3, 2,\n",
       "       3, 0, 7])"
      ]
     },
     "execution_count": 11,
     "metadata": {},
     "output_type": "execute_result"
    }
   ],
   "source": [
    "predictions"
   ]
  },
  {
   "cell_type": "code",
   "execution_count": 12,
   "metadata": {},
   "outputs": [],
   "source": [
    "def load_crop_images_to_df(container_path):\n",
    "    \n",
    "    image_dir = Path(container_path)\n",
    "    folders = [directory for directory in image_dir.iterdir() if directory.is_dir()]\n",
    "    categories = [fo.name for fo in folders]\n",
    "    \n",
    "    images = []\n",
    "    \n",
    "    for i, direc in enumerate(folders):\n",
    "        for file in direc.iterdir():\n",
    "            img = skimage.io.imread(file)\n",
    "            \n",
    "            images.append(img)\n",
    "            \n",
    "    # images = np.array(images)\n",
    "\n",
    "    return images"
   ]
  },
  {
   "cell_type": "code",
   "execution_count": 13,
   "metadata": {},
   "outputs": [],
   "source": [
    "data = load_crop_images_to_df(\"crop/\")"
   ]
  },
  {
   "cell_type": "code",
   "execution_count": 16,
   "metadata": {},
   "outputs": [],
   "source": [
    "df = pd.DataFrame(data, columns=['images'])"
   ]
  },
  {
   "cell_type": "code",
   "execution_count": 17,
   "metadata": {},
   "outputs": [],
   "source": [
    "df['type_de_dent'] = predictions"
   ]
  },
  {
   "cell_type": "code",
   "execution_count": 18,
   "metadata": {},
   "outputs": [
    {
     "data": {
      "text/html": [
       "<div>\n",
       "<style scoped>\n",
       "    .dataframe tbody tr th:only-of-type {\n",
       "        vertical-align: middle;\n",
       "    }\n",
       "\n",
       "    .dataframe tbody tr th {\n",
       "        vertical-align: top;\n",
       "    }\n",
       "\n",
       "    .dataframe thead th {\n",
       "        text-align: right;\n",
       "    }\n",
       "</style>\n",
       "<table border=\"1\" class=\"dataframe\">\n",
       "  <thead>\n",
       "    <tr style=\"text-align: right;\">\n",
       "      <th></th>\n",
       "      <th>images</th>\n",
       "      <th>type_de_dent</th>\n",
       "    </tr>\n",
       "  </thead>\n",
       "  <tbody>\n",
       "    <tr>\n",
       "      <th>0</th>\n",
       "      <td>[[[115, 115, 115], [117, 117, 117], [120, 120,...</td>\n",
       "      <td>6</td>\n",
       "    </tr>\n",
       "    <tr>\n",
       "      <th>1</th>\n",
       "      <td>[[[99, 99, 99], [95, 95, 95], [96, 96, 96], [9...</td>\n",
       "      <td>6</td>\n",
       "    </tr>\n",
       "    <tr>\n",
       "      <th>2</th>\n",
       "      <td>[[[70, 70, 70], [67, 67, 67], [66, 66, 66], [6...</td>\n",
       "      <td>3</td>\n",
       "    </tr>\n",
       "    <tr>\n",
       "      <th>3</th>\n",
       "      <td>[[[169, 169, 169], [174, 174, 174], [172, 172,...</td>\n",
       "      <td>6</td>\n",
       "    </tr>\n",
       "    <tr>\n",
       "      <th>4</th>\n",
       "      <td>[[[132, 132, 132], [128, 128, 128], [128, 128,...</td>\n",
       "      <td>6</td>\n",
       "    </tr>\n",
       "  </tbody>\n",
       "</table>\n",
       "</div>"
      ],
      "text/plain": [
       "                                              images  type_de_dent\n",
       "0  [[[115, 115, 115], [117, 117, 117], [120, 120,...             6\n",
       "1  [[[99, 99, 99], [95, 95, 95], [96, 96, 96], [9...             6\n",
       "2  [[[70, 70, 70], [67, 67, 67], [66, 66, 66], [6...             3\n",
       "3  [[[169, 169, 169], [174, 174, 174], [172, 172,...             6\n",
       "4  [[[132, 132, 132], [128, 128, 128], [128, 128,...             6"
      ]
     },
     "execution_count": 18,
     "metadata": {},
     "output_type": "execute_result"
    }
   ],
   "source": [
    "df.head()"
   ]
  },
  {
   "cell_type": "code",
   "execution_count": 19,
   "metadata": {
    "tags": []
   },
   "outputs": [
    {
     "name": "stdout",
     "output_type": "stream",
     "text": [
      "<class 'pandas.core.frame.DataFrame'>\n",
      "RangeIndex: 531 entries, 0 to 530\n",
      "Data columns (total 2 columns):\n",
      " #   Column        Non-Null Count  Dtype \n",
      "---  ------        --------------  ----- \n",
      " 0   images        531 non-null    object\n",
      " 1   type_de_dent  531 non-null    int32 \n",
      "dtypes: int32(1), object(1)\n",
      "memory usage: 6.3+ KB\n"
     ]
    }
   ],
   "source": [
    "df.info()"
   ]
  },
  {
   "cell_type": "code",
   "execution_count": 20,
   "metadata": {},
   "outputs": [],
   "source": [
    "# import cv2\n",
    "\n",
    "# im_dent = df.loc[1, 'images']\n",
    "# cv2.imshow(\"Image\", im_dent)"
   ]
  }
 ],
 "metadata": {
  "kernelspec": {
   "display_name": "Python 3.6.10 64-bit ('deeplearningaz': conda)",
   "language": "python",
   "name": "python361064bitdeeplearningazconda7d900284f5b647b59588126a83c6a65b"
  },
  "language_info": {
   "codemirror_mode": {
    "name": "ipython",
    "version": 3
   },
   "file_extension": ".py",
   "mimetype": "text/x-python",
   "name": "python",
   "nbconvert_exporter": "python",
   "pygments_lexer": "ipython3",
   "version": "3.6.10"
  },
  "varInspector": {
   "cols": {
    "lenName": 16,
    "lenType": 16,
    "lenVar": 40
   },
   "kernels_config": {
    "python": {
     "delete_cmd_postfix": "",
     "delete_cmd_prefix": "del ",
     "library": "var_list.py",
     "varRefreshCmd": "print(var_dic_list())"
    },
    "r": {
     "delete_cmd_postfix": ") ",
     "delete_cmd_prefix": "rm(",
     "library": "var_list.r",
     "varRefreshCmd": "cat(var_dic_list()) "
    }
   },
   "types_to_exclude": [
    "module",
    "function",
    "builtin_function_or_method",
    "instance",
    "_Feature"
   ],
   "window_display": false
  }
 },
 "nbformat": 4,
 "nbformat_minor": 2
}
